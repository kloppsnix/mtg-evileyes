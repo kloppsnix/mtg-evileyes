{
 "cells": [
  {
   "cell_type": "code",
   "execution_count": null,
   "metadata": {},
   "outputs": [],
   "source": [
    "def set_xy_positions(\n",
    "    dataset, \n",
    "    n_columns = 4, \n",
    "    n_rows = 15,\n",
    "    height_mm = 19.133333,\n",
    "    width_mm = 50., \n",
    "    x_init = 5., \n",
    "    y_init= 5.\n",
    "):\n",
    "    \n",
    "    # Number of rows\n",
    "    n_data = len(dataset)\n",
    "    n_max = n_rows * n_columns\n",
    "\n",
    "    if n_data > n_max:\n",
    "        raise ValueError(\n",
    "            f\"Data contains more than {n_max} items \"\n",
    "            \"which is not allowed!\"\n",
    "        )\n",
    "\n",
    "    positions = []\n",
    "\n",
    "    # Iterate through the set of items and calculate positions\n",
    "    for i in range(n_data):\n",
    "        row = i // n_columns\n",
    "        col = i % n_columns\n",
    "        x = x_init + col * width_mm\n",
    "        y = y_init + row * height_mm\n",
    "        positions.append((x, y))\n",
    "\n",
    "    x, y = list(zip(*positions))\n",
    "\n",
    "    dataset[\"x\"] = x\n",
    "    dataset[\"y\"] = y\n",
    "\n",
    "    return dataset"
   ]
  },
  {
   "cell_type": "code",
   "execution_count": null,
   "metadata": {},
   "outputs": [],
   "source": [
    "import pandas as pd"
   ]
  },
  {
   "cell_type": "code",
   "execution_count": null,
   "metadata": {},
   "outputs": [],
   "source": [
    "df = pd.DataFrame([[1, 2, 3, 4, 5, 6, 7]]).T\n",
    "df"
   ]
  },
  {
   "cell_type": "code",
   "execution_count": null,
   "metadata": {},
   "outputs": [],
   "source": [
    "df = set_xy_positions(df)\n",
    "df"
   ]
  },
  {
   "cell_type": "code",
   "execution_count": null,
   "metadata": {},
   "outputs": [],
   "source": []
  }
 ],
 "metadata": {
  "kernelspec": {
   "display_name": ".venv",
   "language": "python",
   "name": "python3"
  },
  "language_info": {
   "codemirror_mode": {
    "name": "ipython",
    "version": 3
   },
   "file_extension": ".py",
   "mimetype": "text/x-python",
   "name": "python",
   "nbconvert_exporter": "python",
   "pygments_lexer": "ipython3",
   "version": "3.12.9"
  }
 },
 "nbformat": 4,
 "nbformat_minor": 2
}
