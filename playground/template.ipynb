{
 "cells": [
  {
   "cell_type": "code",
   "execution_count": 1,
   "metadata": {},
   "outputs": [
    {
     "name": "stdout",
     "output_type": "stream",
     "text": [
      "... wrote rendered.svg\n"
     ]
    }
   ],
   "source": [
    "from jinja2 import Environment, FileSystemLoader\n",
    "\n",
    "name = \"Magic 2010\"\n",
    "add_name = \"rest_of_name\"\n",
    "released_at = \"2009-07-01\"\n",
    "icon_svg_uri = \"https://svgs.scryfall.io/sets/ori.svg?1742184000\"\n",
    "\n",
    "environment = Environment(loader=FileSystemLoader(\"../templates/\"))\n",
    "template = environment.get_template(\"set_print_template.svg\")\n",
    "\n",
    "\n",
    "filename = \"rendered.svg\"\n",
    "content = template.render(\n",
    "    name = name,\n",
    "    add_name = add_name,\n",
    "    released_at = released_at,\n",
    "    icon_svg_uri = icon_svg_uri\n",
    ")\n",
    "with open(filename, mode=\"w\", encoding=\"utf-8\") as message:\n",
    "    message.write(content)\n",
    "    print(f\"... wrote {filename}\")"
   ]
  }
 ],
 "metadata": {
  "kernelspec": {
   "display_name": ".venv",
   "language": "python",
   "name": "python3"
  },
  "language_info": {
   "codemirror_mode": {
    "name": "ipython",
    "version": 3
   },
   "file_extension": ".py",
   "mimetype": "text/x-python",
   "name": "python",
   "nbconvert_exporter": "python",
   "pygments_lexer": "ipython3",
   "version": "3.12.9"
  }
 },
 "nbformat": 4,
 "nbformat_minor": 2
}
