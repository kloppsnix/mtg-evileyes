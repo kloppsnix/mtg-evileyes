{
 "cells": [
  {
   "cell_type": "code",
   "execution_count": null,
   "metadata": {},
   "outputs": [],
   "source": [
    "# Variable für Endpunkt\n",
    "base_url = \"https://api.scryfall.com\"\n",
    "set_url = base_url + \"/\" + \"sets\"\n",
    "#card_url = base_url + \"/\" + \"cards\" + \"/\" + \"search?q=goblin&page=1\"\n",
    "#card_url = base_url + \"/\" + \"search\" + \"/\" + \"type_line?=token\"\n",
    "#card_url = base_url + \"/\" + \"symbology\"\n",
    "\n",
    "#exp_set = base_url + \"/\" + \"sets\" + \"?type=expansion\""
   ]
  },
  {
   "cell_type": "code",
   "execution_count": null,
   "metadata": {},
   "outputs": [],
   "source": [
    "import requests"
   ]
  },
  {
   "cell_type": "code",
   "execution_count": null,
   "metadata": {},
   "outputs": [],
   "source": [
    "all_sets_data = requests.get(url = set_url)\n",
    "all_sets_data.json()"
   ]
  },
  {
   "cell_type": "code",
   "execution_count": null,
   "metadata": {},
   "outputs": [],
   "source": [
    "asd = all_sets_data.json()\n",
    "#len(asd[\"data\"])"
   ]
  },
  {
   "cell_type": "code",
   "execution_count": null,
   "metadata": {},
   "outputs": [],
   "source": [
    "# all_cards_data = requests.get(url = card_url)\n",
    "# all_cards_data.json()"
   ]
  },
  {
   "cell_type": "code",
   "execution_count": null,
   "metadata": {},
   "outputs": [],
   "source": [
    "# acd = all_cards_data.json()\n",
    "# len(acd[\"data\"])"
   ]
  }
 ],
 "metadata": {
  "kernelspec": {
   "display_name": ".venv",
   "language": "python",
   "name": "python3"
  },
  "language_info": {
   "codemirror_mode": {
    "name": "ipython",
    "version": 3
   },
   "file_extension": ".py",
   "mimetype": "text/x-python",
   "name": "python",
   "nbconvert_exporter": "python",
   "pygments_lexer": "ipython3",
   "version": "3.12.9"
  }
 },
 "nbformat": 4,
 "nbformat_minor": 2
}
